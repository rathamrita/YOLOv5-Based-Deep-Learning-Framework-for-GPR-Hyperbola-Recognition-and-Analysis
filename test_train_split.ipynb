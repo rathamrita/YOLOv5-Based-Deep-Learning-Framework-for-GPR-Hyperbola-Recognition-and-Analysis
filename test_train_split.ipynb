{
 "cells": [
  {
   "cell_type": "code",
   "execution_count": 1,
   "id": "a2e20823-77ba-4d34-ae67-d0bf693e807d",
   "metadata": {},
   "outputs": [],
   "source": [
    "import os\n",
    "import shutil\n",
    "import pandas as pd\n",
    "import cv2\n",
    "from sklearn.model_selection import train_test_split\n",
    "from pathlib import Path"
   ]
  },
  {
   "cell_type": "code",
   "execution_count": 9,
   "id": "09589474-be6c-406e-a701-d2b0b49cdd18",
   "metadata": {},
   "outputs": [],
   "source": [
    "# ====== CONFIG ======\n",
    "IMG_DIR = r'C:\\Users\\prita\\OneDrive\\Desktop\\HYPERBOLA DETECTION LAB DATASET\\2. augmented images'                  # Your image folder\n",
    "CSV_PATH = r'C:\\Users\\prita\\OneDrive\\Desktop\\HYPERBOLA DETECTION LAB DATASET\\annotations_yolo.csv'        # Your CSV file\n",
    "TRAIN_IMG_DIR = r'C:\\Users\\prita\\OneDrive\\Desktop\\HYPERBOLA DETECTION LAB DATASET\\images_train'\n",
    "TEST_IMG_DIR = r'C:\\Users\\prita\\OneDrive\\Desktop\\HYPERBOLA DETECTION LAB DATASET\\images_test'\n",
    "TRAIN_LABEL_DIR = r'C:\\Users\\prita\\OneDrive\\Desktop\\HYPERBOLA DETECTION LAB DATASET\\labels_train'\n",
    "TEST_LABEL_DIR = r'C:\\Users\\prita\\OneDrive\\Desktop\\HYPERBOLA DETECTION LAB DATASET\\labels_test'\n",
    "TEST_SIZE = 0.2"
   ]
  },
  {
   "cell_type": "code",
   "execution_count": 3,
   "id": "1d59d47c-4198-49e2-81f2-03c381913ff9",
   "metadata": {},
   "outputs": [],
   "source": [
    "# ====== SETUP FOLDERS ======\n",
    "for folder in [TRAIN_IMG_DIR, TEST_IMG_DIR, TRAIN_LABEL_DIR, TEST_LABEL_DIR]:\n",
    "    os.makedirs(folder, exist_ok=True)\n",
    "\n",
    "# ====== READ ANNOTATIONS ======\n",
    "df = pd.read_csv(CSV_PATH)"
   ]
  },
  {
   "cell_type": "code",
   "execution_count": 17,
   "id": "b6e953e4-5bb7-4c4f-9d39-693431160f65",
   "metadata": {},
   "outputs": [],
   "source": [
    "# Extract just the image filename from the full Windows-style path\n",
    "df['filename'] = df['path'].apply(lambda x: Path(x).name)\n",
    "\n",
    "# Get list of unique images\n",
    "unique_images = df['filename'].unique()\n"
   ]
  },
  {
   "cell_type": "code",
   "execution_count": 18,
   "id": "fbc0707e-b964-4ccf-8b41-85c5b4e5b11e",
   "metadata": {},
   "outputs": [],
   "source": [
    "# ====== SPLIT TRAIN/TEST ======\n",
    "train_imgs, test_imgs = train_test_split(unique_images, test_size=TEST_SIZE, random_state=42)"
   ]
  },
  {
   "cell_type": "code",
   "execution_count": 19,
   "id": "6a3284d0-dd34-4855-a674-f839194d393f",
   "metadata": {},
   "outputs": [],
   "source": [
    "# ====== YOLO CONVERSION FUNCTION ======\n",
    "def convert_to_yolo(row, w, h):\n",
    "    x1, y1, x2, y2 = row['x1'], row['y1'], row['x2'], row['y2']\n",
    "    x_center = (x1 + x2) / 2 / w\n",
    "    y_center = (y1 + y2) / 2 / h\n",
    "    width = (x2 - x1) / w\n",
    "    height = (y2 - y1) / h\n",
    "    return f\"0 {x_center:.6f} {y_center:.6f} {width:.6f} {height:.6f}\\\\n\"  # class 0"
   ]
  },
  {
   "cell_type": "code",
   "execution_count": 20,
   "id": "3b03ec82-c787-43ac-a0c8-ad5b1e13233b",
   "metadata": {},
   "outputs": [],
   "source": [
    "# ====== PROCESS FUNCTION ======\n",
    "def process_subset(image_list, subset_name):\n",
    "    img_dst = TRAIN_IMG_DIR if subset_name == 'train' else TEST_IMG_DIR\n",
    "    label_dst = TRAIN_LABEL_DIR if subset_name == 'train' else TEST_LABEL_DIR\n",
    "\n",
    "    for img_name in image_list:\n",
    "        src_img = os.path.join(IMG_DIR, img_name)\n",
    "        dst_img = os.path.join(img_dst, img_name)\n",
    "        label_file = os.path.join(label_dst, Path(img_name).stem + '.txt')\n",
    "\n",
    "        # Copy image\n",
    "        if not os.path.exists(src_img):\n",
    "            print(f\"⚠️ Missing image: {src_img}\")\n",
    "            continue\n",
    "        shutil.copy2(src_img, dst_img)\n",
    "\n",
    "        # Load image to get width and height\n",
    "        img = cv2.imread(src_img)\n",
    "        if img is None:\n",
    "            print(f\"⚠️ Can't read image: {src_img}\")\n",
    "            continue\n",
    "        h, w = img.shape[:2]\n",
    "\n",
    "        # Filter annotations for this image\n",
    "        rows = df[df['filename'] == img_name]\n",
    "\n",
    "        # Write label file in YOLO format\n",
    "        with open(label_file, 'w') as f:\n",
    "            for _, row in rows.iterrows():\n",
    "                f.write(convert_to_yolo(row, w, h))\n"
   ]
  },
  {
   "cell_type": "code",
   "execution_count": 21,
   "id": "d15521e3-41ff-4b96-ab05-883d7a5cb96d",
   "metadata": {},
   "outputs": [
    {
     "name": "stdout",
     "output_type": "stream",
     "text": [
      "✅ Done! Images and labels saved in train/test folders.\n"
     ]
    }
   ],
   "source": [
    "# ====== RUN ======\n",
    "process_subset(train_imgs, 'train')\n",
    "process_subset(test_imgs, 'test')\n",
    "\n",
    "print(\"✅ Done! Images and labels saved in train/test folders.\")"
   ]
  },
  {
   "cell_type": "code",
   "execution_count": null,
   "id": "c3c36787-5a26-41b3-b3b9-28232514ce6b",
   "metadata": {},
   "outputs": [],
   "source": []
  },
  {
   "cell_type": "code",
   "execution_count": null,
   "id": "27a7b220-7857-4d23-9a07-464d3e03c565",
   "metadata": {},
   "outputs": [],
   "source": []
  }
 ],
 "metadata": {
  "kernelspec": {
   "display_name": "Python [conda env:base] *",
   "language": "python",
   "name": "conda-base-py"
  },
  "language_info": {
   "codemirror_mode": {
    "name": "ipython",
    "version": 3
   },
   "file_extension": ".py",
   "mimetype": "text/x-python",
   "name": "python",
   "nbconvert_exporter": "python",
   "pygments_lexer": "ipython3",
   "version": "3.13.5"
  }
 },
 "nbformat": 4,
 "nbformat_minor": 5
}
