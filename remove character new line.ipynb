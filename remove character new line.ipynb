{
 "cells": [
  {
   "cell_type": "code",
   "execution_count": 10,
   "id": "1205cd69-54a7-4610-9312-7cd9e536efef",
   "metadata": {},
   "outputs": [
    {
     "name": "stdout",
     "output_type": "stream",
     "text": [
      "✅ All files in the folder have been cleaned. Literal \\n sequences removed.\n"
     ]
    }
   ],
   "source": [
    "import os\n",
    "\n",
    "# Replace with your actual folder path\n",
    "train_labels_path = r\"E:\\HYPERBOLA DETECTION LAB DATASET\\yolo dataset\\labels\\train\"\n",
    "\n",
    "for filename in os.listdir(train_labels_path):\n",
    "    if filename.endswith(\".txt\"):\n",
    "        file_path = os.path.join(train_labels_path, filename)\n",
    "\n",
    "        # Read the file content, and remove literal '\\n'\n",
    "        with open(file_path, \"r\") as f:\n",
    "            content = f.read().replace('\\\\n', '').strip()\n",
    "\n",
    "        # Write back the cleaned content without any added newline\n",
    "        with open(file_path, \"w\", newline='') as f:\n",
    "            f.write(content)\n",
    "\n",
    "print(\"✅ All files in the folder have been cleaned. Literal \\\\n sequences removed.\")\n",
    "\n",
    "\n"
   ]
  },
  {
   "cell_type": "code",
   "execution_count": 9,
   "id": "3d6fd8ba-d064-46db-99a6-60c6eb6d67c4",
   "metadata": {},
   "outputs": [
    {
     "name": "stdout",
     "output_type": "stream",
     "text": [
      "b'0 0.480469 0.515625 0.648438 0.601562\\\\n'\n"
     ]
    }
   ],
   "source": [
    "with open(file_path, \"rb\") as f:\n",
    "    print(f.read())"
   ]
  },
  {
   "cell_type": "code",
   "execution_count": null,
   "id": "f1a4656b-b1b6-44b1-a253-82e7aa3ab316",
   "metadata": {},
   "outputs": [],
   "source": []
  }
 ],
 "metadata": {
  "kernelspec": {
   "display_name": "Python [conda env:base] *",
   "language": "python",
   "name": "conda-base-py"
  },
  "language_info": {
   "codemirror_mode": {
    "name": "ipython",
    "version": 3
   },
   "file_extension": ".py",
   "mimetype": "text/x-python",
   "name": "python",
   "nbconvert_exporter": "python",
   "pygments_lexer": "ipython3",
   "version": "3.13.5"
  }
 },
 "nbformat": 4,
 "nbformat_minor": 5
}
